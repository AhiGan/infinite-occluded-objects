{
 "cells": [
  {
   "cell_type": "code",
   "execution_count": null,
   "metadata": {},
   "outputs": [],
   "source": [
    "import sys\n",
    "sys.path.append('../src')\n",
    "import numpy as np\n",
    "import os\n",
    "from evaluation import load_dataset, load_results, convert_results, compute_scores"
   ]
  },
  {
   "cell_type": "code",
   "execution_count": null,
   "metadata": {},
   "outputs": [],
   "source": [
    "def print_scores(mode, num_objects='2_3', filename_base='result_{}.h5', num_tests=5):\n",
    "    for name_data_base in name_data_base_list:\n",
    "        is_ordered = False if mode == 'sep' else name_data_base in ['rgb_1', 'rgb_3']\n",
    "        for name_data_sub in name_data_sub_list:\n",
    "            print('{}_{}'.format(name_data_base, name_data_sub))\n",
    "            images, labels_ami, labels_mse = load_dataset(\n",
    "                os.path.join(folder_data_base, '{}_{}'.format(mode, name_data_base)),\n",
    "                '{}_{}'.format(name_data_sub, num_objects))\n",
    "            folder_result = '{}_{}_{}'.format(mode, name_data_base, name_data_sub)\n",
    "            scores_list = {key: [] for key in ['AMI', 'MSE', 'OCA', 'OOA_ORI', 'OOA_ADJ']}\n",
    "            for model_id in range(num_tests):\n",
    "                results = load_results(folder_result, filename_base.format(model_id))\n",
    "                gamma, pres, coef, recon_scene, recon_objects = convert_results(results)\n",
    "                ami_score, mse_score, oca_score, ooa_score_ori, ooa_score_adj = compute_scores(\n",
    "                    images, labels_ami, labels_mse, gamma, pres, coef, recon_objects, is_ordered)\n",
    "                scores_list['AMI'].append(ami_score * 1e2)\n",
    "                scores_list['MSE'].append(mse_score * 1e3)\n",
    "                scores_list['OCA'].append(oca_score * 1e2)\n",
    "                scores_list['OOA_ORI'].append(ooa_score_ori * 1e2)\n",
    "                scores_list['OOA_ADJ'].append(ooa_score_adj * 1e2)\n",
    "            scores_mean = {key: np.mean(val) for key, val in scores_list.items()}\n",
    "            scores_std = {key: np.std(val) for key, val in scores_list.items()}\n",
    "            print('AMI(%):{:5.3g} {:.0e}'.format(scores_mean['AMI'], scores_std['AMI'] * 2), end=' ' * 4)\n",
    "            print('MSE(e-3):{:4.1f} {:.0e}'.format(scores_mean['MSE'], scores_std['MSE'] * 2), end=' ' * 4)\n",
    "            print('OCA(%):{:5.3g} {:.0e}'.format(scores_mean['OCA'], scores_std['OCA'] * 2), end=' ' * 4)\n",
    "            if is_ordered:\n",
    "                print('OOA_ORI(%):{:5.3g} {:.0e}'.format(scores_mean['OOA_ORI'], scores_std['OOA_ORI'] * 2), end=' ' * 4)\n",
    "                print('OOA_ADJ(%):{:5.3g} {:.0e}'.format(scores_mean['OOA_ADJ'], scores_std['OOA_ADJ'] * 2), end=' ' * 4)\n",
    "            print()\n",
    "\n",
    "folder_data_base = '../data'\n",
    "name_data_base_list = ['gray', 'rgb_1', 'rgb_2', 'rgb_3', 'rgb_4']\n",
    "name_data_sub_list = ['shapes', 'mnist']"
   ]
  },
  {
   "cell_type": "code",
   "execution_count": null,
   "metadata": {
    "scrolled": true
   },
   "outputs": [],
   "source": [
    "# Evaluate on images containing 2 or 3 objects (without occlusion)\n",
    "print_scores('sep')"
   ]
  },
  {
   "cell_type": "code",
   "execution_count": null,
   "metadata": {},
   "outputs": [],
   "source": [
    "# Evaluate on images containing 2 or 3 objects (with occlusion)\n",
    "print_scores('occ')"
   ]
  },
  {
   "cell_type": "code",
   "execution_count": null,
   "metadata": {},
   "outputs": [],
   "source": [
    "# Evaluate on images containing 4 objects (without occlusion, K = 4)\n",
    "print_scores('sep', num_objects='4', filename_base='general_4_result_{}.h5')"
   ]
  },
  {
   "cell_type": "code",
   "execution_count": null,
   "metadata": {},
   "outputs": [],
   "source": [
    "# Evaluate on images containing 4 objects (without occlusion, K = 10)\n",
    "print_scores('sep', num_objects='4', filename_base='general_10_result_{}.h5')"
   ]
  },
  {
   "cell_type": "code",
   "execution_count": null,
   "metadata": {},
   "outputs": [],
   "source": [
    "# Evaluate on images containing 4 objects (with occlusion, K = 4)\n",
    "print_scores('occ', num_objects='4', filename_base='general_4_result_{}.h5')"
   ]
  },
  {
   "cell_type": "code",
   "execution_count": null,
   "metadata": {},
   "outputs": [],
   "source": [
    "# Evaluate on images containing 4 objects (with occlusion, K = 10)\n",
    "print_scores('occ', num_objects='4', filename_base='general_10_result_{}.h5')"
   ]
  }
 ],
 "metadata": {
  "kernelspec": {
   "display_name": "Python 3",
   "language": "python",
   "name": "python3"
  },
  "language_info": {
   "codemirror_mode": {
    "name": "ipython",
    "version": 3
   },
   "file_extension": ".py",
   "mimetype": "text/x-python",
   "name": "python",
   "nbconvert_exporter": "python",
   "pygments_lexer": "ipython3",
   "version": "3.7.2"
  }
 },
 "nbformat": 4,
 "nbformat_minor": 2
}
